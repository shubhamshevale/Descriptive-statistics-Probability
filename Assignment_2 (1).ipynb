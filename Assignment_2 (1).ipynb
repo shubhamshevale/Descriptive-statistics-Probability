{
 "cells": [
  {
   "cell_type": "markdown",
   "id": "3bb5b757",
   "metadata": {},
   "source": [
    "# Look at the data given below. Plot the data, find the outliers and find out  μ,σ,σ^2\n",
    "\n",
    "Name of company\tMeasure X\n",
    "Allied Signal\t24.23%\n",
    "Bankers Trust\t25.53%\n",
    "General Mills\t25.41%\n",
    "ITT Industries\t24.14%\n",
    "J.P.Morgan & Co.\t29.62%\n",
    "Lehman Brothers\t28.25%\n",
    "Marriott\t25.81%\n",
    "MCI\t24.39%\n",
    "Merrill Lynch\t40.26%\n",
    "Microsoft\t32.95%\n",
    "Morgan Stanley\t91.36%\n",
    "Sun Microsystems\t25.99%\n",
    "Travelers\t39.42%\n",
    "US Airways\t26.71%\n",
    "Warner-Lambert\t35.00%\n",
    "\n"
   ]
  },
  {
   "cell_type": "code",
   "execution_count": 35,
   "id": "89948562",
   "metadata": {},
   "outputs": [],
   "source": [
    "import numpy as np\n",
    "import pandas as pd\n",
    "import seaborn as sns\n",
    "import matplotlib.pyplot as plt"
   ]
  },
  {
   "cell_type": "code",
   "execution_count": 22,
   "id": "5771d585",
   "metadata": {},
   "outputs": [],
   "source": [
    "df=np.array(([24.23,25.53,25.41,24.14,29.62,28.25,25.81,24.39,40.26,32.95,91.36,25.99,39.42,26.71,35.00]))"
   ]
  },
  {
   "cell_type": "code",
   "execution_count": 27,
   "id": "f05e6c6a",
   "metadata": {},
   "outputs": [
    {
     "data": {
      "text/html": [
       "<div>\n",
       "<style scoped>\n",
       "    .dataframe tbody tr th:only-of-type {\n",
       "        vertical-align: middle;\n",
       "    }\n",
       "\n",
       "    .dataframe tbody tr th {\n",
       "        vertical-align: top;\n",
       "    }\n",
       "\n",
       "    .dataframe thead th {\n",
       "        text-align: right;\n",
       "    }\n",
       "</style>\n",
       "<table border=\"1\" class=\"dataframe\">\n",
       "  <thead>\n",
       "    <tr style=\"text-align: right;\">\n",
       "      <th></th>\n",
       "      <th>Measure X</th>\n",
       "    </tr>\n",
       "  </thead>\n",
       "  <tbody>\n",
       "    <tr>\n",
       "      <th>0</th>\n",
       "      <td>24.23</td>\n",
       "    </tr>\n",
       "    <tr>\n",
       "      <th>1</th>\n",
       "      <td>25.53</td>\n",
       "    </tr>\n",
       "    <tr>\n",
       "      <th>2</th>\n",
       "      <td>25.41</td>\n",
       "    </tr>\n",
       "    <tr>\n",
       "      <th>3</th>\n",
       "      <td>24.14</td>\n",
       "    </tr>\n",
       "    <tr>\n",
       "      <th>4</th>\n",
       "      <td>29.62</td>\n",
       "    </tr>\n",
       "    <tr>\n",
       "      <th>5</th>\n",
       "      <td>28.25</td>\n",
       "    </tr>\n",
       "    <tr>\n",
       "      <th>6</th>\n",
       "      <td>25.81</td>\n",
       "    </tr>\n",
       "    <tr>\n",
       "      <th>7</th>\n",
       "      <td>24.39</td>\n",
       "    </tr>\n",
       "    <tr>\n",
       "      <th>8</th>\n",
       "      <td>40.26</td>\n",
       "    </tr>\n",
       "    <tr>\n",
       "      <th>9</th>\n",
       "      <td>32.95</td>\n",
       "    </tr>\n",
       "    <tr>\n",
       "      <th>10</th>\n",
       "      <td>91.36</td>\n",
       "    </tr>\n",
       "    <tr>\n",
       "      <th>11</th>\n",
       "      <td>25.99</td>\n",
       "    </tr>\n",
       "    <tr>\n",
       "      <th>12</th>\n",
       "      <td>39.42</td>\n",
       "    </tr>\n",
       "    <tr>\n",
       "      <th>13</th>\n",
       "      <td>26.71</td>\n",
       "    </tr>\n",
       "    <tr>\n",
       "      <th>14</th>\n",
       "      <td>35.00</td>\n",
       "    </tr>\n",
       "  </tbody>\n",
       "</table>\n",
       "</div>"
      ],
      "text/plain": [
       "    Measure X\n",
       "0       24.23\n",
       "1       25.53\n",
       "2       25.41\n",
       "3       24.14\n",
       "4       29.62\n",
       "5       28.25\n",
       "6       25.81\n",
       "7       24.39\n",
       "8       40.26\n",
       "9       32.95\n",
       "10      91.36\n",
       "11      25.99\n",
       "12      39.42\n",
       "13      26.71\n",
       "14      35.00"
      ]
     },
     "execution_count": 27,
     "metadata": {},
     "output_type": "execute_result"
    }
   ],
   "source": [
    "df2=pd.DataFrame(df,columns=[\"Measure X\"])\n",
    "df2"
   ]
  },
  {
   "cell_type": "code",
   "execution_count": 37,
   "id": "796d3581",
   "metadata": {},
   "outputs": [
    {
     "data": {
      "text/plain": [
       "(<AxesSubplot:>,)"
      ]
     },
     "execution_count": 37,
     "metadata": {},
     "output_type": "execute_result"
    },
    {
     "data": {
      "image/png": "[encoded data removed]",
      "text/plain": [
       "<Figure size 432x288 with 1 Axes>"
      ]
     },
     "metadata": {
      "needs_background": "light"
     },
     "output_type": "display_data"
    }
   ],
   "source": [
    "df2.boxplot(column=['Measure X']),"
   ]
  },
  {
   "cell_type": "code",
   "execution_count": 39,
   "id": "834f69c2",
   "metadata": {},
   "outputs": [
    {
     "name": "stdout",
     "output_type": "stream",
     "text": [
      "mean: Measure X    33.271333\n",
      "dtype: float64\n"
     ]
    }
   ],
   "source": [
    "df2.mean()\n",
    "print(\"mean:\",df2.mean())"
   ]
  },
  {
   "cell_type": "code",
   "execution_count": 40,
   "id": "256577ca",
   "metadata": {},
   "outputs": [
    {
     "name": "stdout",
     "output_type": "stream",
     "text": [
      "mean: Measure X    33.271333\n",
      "dtype: float64 \n",
      " std: Measure X    16.945401\n",
      "dtype: float64 \n",
      " var: Measure X    287.146612\n",
      "dtype: float64\n"
     ]
    }
   ],
   "source": [
    "df2.mean()\n",
    "df2.std()\n",
    "df2.var()\n",
    "print(\"mean:\",df2.mean(),\"\\n std:\",df2.std(),\"\\n var:\",df2.var())"
   ]
  },
  {
   "cell_type": "code",
   "execution_count": null,
   "id": "973c4445",
   "metadata": {},
   "outputs": [],
   "source": []
  },
  {
   "cell_type": "code",
   "execution_count": null,
   "id": "980c3cc0",
   "metadata": {},
   "outputs": [],
   "source": []
  }
 ],
 "metadata": {
  "kernelspec": {
   "display_name": "Python 3 (ipykernel)",
   "language": "python",
   "name": "python3"
  },
  "language_info": {
   "codemirror_mode": {
    "name": "ipython",
    "version": 3
   },
   "file_extension": ".py",
   "mimetype": "text/x-python",
   "name": "python",
   "nbconvert_exporter": "python",
   "pygments_lexer": "ipython3",
   "version": "3.9.7"
  }
 },
 "nbformat": 4,
 "nbformat_minor": 5
}
